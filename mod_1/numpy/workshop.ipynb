{
 "cells": [
  {
   "cell_type": "code",
   "execution_count": 9,
   "metadata": {},
   "outputs": [],
   "source": [
    "\"\"\"An example library for converting temperatures.\"\"\"\n",
    "\n",
    "def convert_f_to_c(temperature_f):\n",
    "    \"\"\"Convert Fahrenheit to Celsius.\"\"\"\n",
    "    temperature_c = (temperature_f - 32) * (5/9)\n",
    "    return temperature_c\n",
    "def convert_c_to_k(temperature_c):\n",
    "    \"\"\"Convert Celsius to Fahrenheit.\"\"\"\n",
    "    temperature_k = temperature_c + 273.15\n",
    "    return temperature_k\n",
    "def convert_f_to_k(temperature_f):\n",
    "    \"\"\"Convert Fahrenheit to Kelvin.\"\"\"\n",
    "    temperature_k = (temperature_f - 32)*5/9 + 273.15\n",
    "    return temperature_k\n",
    "def convert_k_to_c(temperature_k):\n",
    "    \"\"\"Convert Kelvin to Celsius.\"\"\"\n",
    "    temperature_c = temperature_k - 273.15\n",
    "    return temperature_c"
   ]
  },
  {
   "cell_type": "code",
   "execution_count": 6,
   "metadata": {},
   "outputs": [
    {
     "data": {
      "text/plain": [
       "112.22222222222223"
      ]
     },
     "execution_count": 6,
     "metadata": {},
     "output_type": "execute_result"
    }
   ],
   "source": [
    "convert_f_to_c(234)"
   ]
  },
  {
   "cell_type": "code",
   "execution_count": 7,
   "metadata": {},
   "outputs": [
    {
     "data": {
      "text/plain": [
       "318.15"
      ]
     },
     "execution_count": 7,
     "metadata": {},
     "output_type": "execute_result"
    }
   ],
   "source": [
    "convert_c_to_k(45)"
   ]
  },
  {
   "cell_type": "code",
   "execution_count": 10,
   "metadata": {},
   "outputs": [
    {
     "data": {
      "text/plain": [
       "310.92777777777775"
      ]
     },
     "execution_count": 10,
     "metadata": {},
     "output_type": "execute_result"
    }
   ],
   "source": [
    "convert_f_to_k(100)"
   ]
  },
  {
   "cell_type": "code",
   "execution_count": 11,
   "metadata": {},
   "outputs": [
    {
     "data": {
      "text/plain": [
       "-503.15"
      ]
     },
     "execution_count": 11,
     "metadata": {},
     "output_type": "execute_result"
    }
   ],
   "source": [
    "convert_k_to_c(-230)"
   ]
  },
  {
   "cell_type": "code",
   "execution_count": null,
   "metadata": {},
   "outputs": [],
   "source": []
  }
 ],
 "metadata": {
  "kernelspec": {
   "display_name": "Python 3",
   "language": "python",
   "name": "python3"
  },
  "language_info": {
   "codemirror_mode": {
    "name": "ipython",
    "version": 3
   },
   "file_extension": ".py",
   "mimetype": "text/x-python",
   "name": "python",
   "nbconvert_exporter": "python",
   "pygments_lexer": "ipython3",
   "version": "3.6.8"
  }
 },
 "nbformat": 4,
 "nbformat_minor": 2
}
